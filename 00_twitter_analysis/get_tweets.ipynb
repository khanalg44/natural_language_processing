{
 "cells": [
  {
   "cell_type": "code",
   "execution_count": null,
   "metadata": {},
   "outputs": [],
   "source": [
    "#!/usr/bin/env python3\n",
    "# -*- coding: utf-8 -*-\n",
    "\"\"\"\n",
    "Created on Sat Mar 21 23:26:32 2020\n",
    "\n",
    "@author: krishanagyanwali\n",
    "\"\"\"\n",
    "\n",
    "import tweepy as tw\n",
    "import csv\n",
    "import twitter_keys as tk\n",
    "\n",
    "auth = tw.OAuthHandler(tk.consumer_key, tk.consumer_secret)\n",
    "auth.set_access_token(tk.access_token_key, tk.access_token_secret)\n",
    "api = tw.API(auth, wait_on_rate_limit=True)\n",
    "\n",
    "# Open/create a file to append data to\n",
    "csvFile = open('coronavirus3.csv', 'a')\n",
    "\n",
    "coronavirus_tweets = csvWriter = csv.writer(csvFile)\n",
    "\n",
    "\n",
    "\n",
    "# Define the search term and the date_since date as variables\n",
    "search_words = \"#coronavirus\"\n",
    "date_since = \"2020-03-15\"\n",
    "\n",
    "# Collect tweets\n",
    "for tweet in tw.Cursor(api.search,\n",
    "                           q = \"coronavirus\",\n",
    "                           since = \"2020-01-22\",\n",
    "                           until = \"2020-03-22\",\n",
    "                           lang = \"en\").items():\n",
    "\n",
    "    # Write a row to the CSV file. I use encode UTF-8\n",
    "    csvWriter.writerow([tweet.date, tweet.text])\n",
    "    print (tweet.date, tweet.text)\n",
    "csvFile.close()"
   ]
  }
 ],
 "metadata": {
  "kernelspec": {
   "display_name": "Python 3",
   "language": "python",
   "name": "python3"
  },
  "language_info": {
   "codemirror_mode": {
    "name": "ipython",
    "version": 3
   },
   "file_extension": ".py",
   "mimetype": "text/x-python",
   "name": "python",
   "nbconvert_exporter": "python",
   "pygments_lexer": "ipython3",
   "version": "3.7.5"
  }
 },
 "nbformat": 4,
 "nbformat_minor": 2
}
